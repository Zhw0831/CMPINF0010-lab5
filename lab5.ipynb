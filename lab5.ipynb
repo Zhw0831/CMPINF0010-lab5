{
 "cells": [
  {
   "cell_type": "markdown",
   "metadata": {},
   "source": [
    "# Lab 5 Group Project - Inspire"
   ]
  },
  {
   "cell_type": "code",
   "execution_count": 1,
   "metadata": {},
   "outputs": [
    {
     "name": "stdin",
     "output_type": "stream",
     "text": [
      "Please enter your name:  Angela\n",
      "Please rate your day, enter a number between 1-5:  5\n"
     ]
    },
    {
     "name": "stdout",
     "output_type": "stream",
     "text": [
      "Angela, Have a nice day YAY\n"
     ]
    }
   ],
   "source": [
    "name = input(\"Please enter your name: \")\n",
    "number = input(\"Please rate your day, enter a number between 1-5: \")\n",
    "number = int(number)\n",
    "if number == 1:\n",
    "    print(name + \", Everything is gonna be ok\")\n",
    "elif number == 2:\n",
    "    print( name + \", Chin up and go\")\n",
    "elif number == 3:\n",
    "    print( name + \", Success is waiting ahead\")\n",
    "elif number == 4:\n",
    "    print( name + \", Great to hear! Keep up!\")\n",
    "elif number == 5:\n",
    "    print( name + \", Have a nice day YAY\")"
   ]
  }
 ],
 "metadata": {
  "kernelspec": {
   "display_name": "Python 3",
   "language": "python",
   "name": "python3"
  },
  "language_info": {
   "codemirror_mode": {
    "name": "ipython",
    "version": 3
   },
   "file_extension": ".py",
   "mimetype": "text/x-python",
   "name": "python",
   "nbconvert_exporter": "python",
   "pygments_lexer": "ipython3",
   "version": "3.8.5"
  }
 },
 "nbformat": 4,
 "nbformat_minor": 4
}
